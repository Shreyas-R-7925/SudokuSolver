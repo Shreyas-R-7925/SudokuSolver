{
 "cells": [
  {
   "cell_type": "markdown",
   "id": "6e594a6b",
   "metadata": {},
   "source": [
    "#### A CNN model is created and trained on the char54k dataset to identify digits 1 to 9"
   ]
  },
  {
   "cell_type": "markdown",
   "id": "a2a45d00",
   "metadata": {},
   "source": [
    "## Function to calculate the COM shift"
   ]
  },
  {
   "cell_type": "code",
   "execution_count": 23,
   "id": "8d7998a7",
   "metadata": {},
   "outputs": [],
   "source": [
    "import os\n",
    "import numpy\n",
    "from scipy import ndimage\n",
    "import cv2"
   ]
  },
  {
   "cell_type": "markdown",
   "id": "e687b0f8",
   "metadata": {},
   "source": [
    "This function is used to centralize the image using its center of mass"
   ]
  },
  {
   "cell_type": "code",
   "execution_count": 24,
   "id": "b0e1b629",
   "metadata": {},
   "outputs": [],
   "source": [
    "def getBestShift(img):\n",
    "    cy,cx = ndimage.measurements.center_of_mass(img)\n",
    "    rows,cols = img.shape\n",
    "    shiftx = numpy.round(cols/2.0-cx).astype(int)\n",
    "    shifty = numpy.round(rows/2.0-cy).astype(int)\n",
    "    return shiftx,shifty"
   ]
  },
  {
   "cell_type": "markdown",
   "id": "528f193b",
   "metadata": {},
   "source": [
    "## Function to create training data"
   ]
  },
  {
   "cell_type": "markdown",
   "id": "c175eb33",
   "metadata": {},
   "source": [
    "This function is used to read image traning data from the folders named 1, 2,..., 9 in the DigitImages directory"
   ]
  },
  {
   "cell_type": "code",
   "execution_count": 25,
   "id": "40d099b3",
   "metadata": {},
   "outputs": [],
   "source": [
    "def createTrainingData():\n",
    "    for category in CATEGORIES:\n",
    "        path = os.path.join(DATADIR, category)\n",
    "        class_num = CATEGORIES.index(category)\n",
    "        for img in os.listdir(path):\n",
    "            img_array = cv2.imread(os.path.join(path,img), cv2.IMREAD_GRAYSCALE)\n",
    "            new_array = cv2.resize(img_array, (img_rows, img_cols))\n",
    "            new_array = shiftCenterOfMass(new_array)\n",
    "            training_data.append([new_array, class_num])"
   ]
  },
  {
   "cell_type": "markdown",
   "id": "f2b3af2f",
   "metadata": {},
   "source": [
    "## Function to centralize image"
   ]
  },
  {
   "cell_type": "markdown",
   "id": "785bf609",
   "metadata": {},
   "source": [
    "This function will centralize the image according to its center of mass.Same has been implemented in sudokuSolver.\n",
    "Without this step, the accuracy drops from nearly 100% to 70-80%"
   ]
  },
  {
   "cell_type": "code",
   "execution_count": 26,
   "id": "ce8af4c6",
   "metadata": {},
   "outputs": [],
   "source": [
    "def shiftCenterOfMass(img):\n",
    "    img = cv2.bitwise_not(img)\n",
    "\n",
    "    # Centralize the image according to center of mass\n",
    "    shiftx,shifty = getBestShift(img)\n",
    "    shifted = shift(img,shiftx,shifty)\n",
    "    img = shifted\n",
    "\n",
    "    img = cv2.bitwise_not(img)\n",
    "    return img"
   ]
  },
  {
   "cell_type": "markdown",
   "id": "9d76cc3e",
   "metadata": {},
   "source": [
    "## Function to shift image"
   ]
  },
  {
   "cell_type": "markdown",
   "id": "959ae047",
   "metadata": {},
   "source": [
    "This function is used to centralize the image according to its center of mass"
   ]
  },
  {
   "cell_type": "code",
   "execution_count": 27,
   "id": "ef4076c4",
   "metadata": {},
   "outputs": [],
   "source": [
    "def shift(img,sx,sy):\n",
    "    rows,cols = img.shape\n",
    "    M = numpy.float32([[1,0,sx],[0,1,sy]])\n",
    "    shifted = cv2.warpAffine(img,M,(cols,rows))\n",
    "    return shifted"
   ]
  },
  {
   "cell_type": "markdown",
   "id": "d91f3b0a",
   "metadata": {},
   "source": [
    "## Import Required Libraries"
   ]
  },
  {
   "cell_type": "code",
   "execution_count": 28,
   "id": "44da0dd2",
   "metadata": {},
   "outputs": [],
   "source": [
    "#Neural Network modules\n",
    "import tensorflow as tf\n",
    "from tensorflow.keras.models import Sequential\n",
    "from tensorflow.keras.layers import Dense, Dropout, Flatten\n",
    "from tensorflow.keras.layers import Conv2D, MaxPooling2D\n",
    "from tensorflow.keras.utils import to_categorical\n",
    "\n",
    "\n",
    "import numpy                    #Module for working with arrays\n",
    "import os                       #Standard module for interacting with OS\n",
    "import random                   #For shuffling images\n",
    "import cv2                      #Standard module in solving computer visions\n",
    "from scipy import ndimage       #Library for multidimensional image processing"
   ]
  },
  {
   "cell_type": "markdown",
   "id": "477943df",
   "metadata": {},
   "source": [
    "## Create and build CNN"
   ]
  },
  {
   "cell_type": "code",
   "execution_count": 29,
   "id": "bb14b214",
   "metadata": {
    "scrolled": false
   },
   "outputs": [
    {
     "name": "stderr",
     "output_type": "stream",
     "text": [
      "C:\\Users\\Shreyas\\AppData\\Local\\Temp\\ipykernel_7028\\1076359088.py:2: DeprecationWarning: Please import `center_of_mass` from the `scipy.ndimage` namespace; the `scipy.ndimage.measurements` namespace is deprecated and will be removed in SciPy 2.0.0.\n",
      "  cy,cx = ndimage.measurements.center_of_mass(img)\n"
     ]
    },
    {
     "name": "stdout",
     "output_type": "stream",
     "text": [
      "Epoch 1/50\n",
      "\u001b[1m58/58\u001b[0m \u001b[32m━━━━━━━━━━━━━━━━━━━━\u001b[0m\u001b[37m\u001b[0m \u001b[1m9s\u001b[0m 113ms/step - accuracy: 0.5940 - loss: 1.2247 - val_accuracy: 0.9476 - val_loss: 0.1802\n",
      "Epoch 2/50\n",
      "\u001b[1m58/58\u001b[0m \u001b[32m━━━━━━━━━━━━━━━━━━━━\u001b[0m\u001b[37m\u001b[0m \u001b[1m10s\u001b[0m 99ms/step - accuracy: 0.9428 - loss: 0.2011 - val_accuracy: 0.9754 - val_loss: 0.0968\n",
      "Epoch 3/50\n",
      "\u001b[1m58/58\u001b[0m \u001b[32m━━━━━━━━━━━━━━━━━━━━\u001b[0m\u001b[37m\u001b[0m \u001b[1m6s\u001b[0m 101ms/step - accuracy: 0.9618 - loss: 0.1219 - val_accuracy: 0.9798 - val_loss: 0.0672\n",
      "Epoch 4/50\n",
      "\u001b[1m58/58\u001b[0m \u001b[32m━━━━━━━━━━━━━━━━━━━━\u001b[0m\u001b[37m\u001b[0m \u001b[1m6s\u001b[0m 100ms/step - accuracy: 0.9749 - loss: 0.0753 - val_accuracy: 0.9853 - val_loss: 0.0567\n",
      "Epoch 5/50\n",
      "\u001b[1m58/58\u001b[0m \u001b[32m━━━━━━━━━━━━━━━━━━━━\u001b[0m\u001b[37m\u001b[0m \u001b[1m10s\u001b[0m 100ms/step - accuracy: 0.9831 - loss: 0.0557 - val_accuracy: 0.9853 - val_loss: 0.0434\n",
      "Epoch 6/50\n",
      "\u001b[1m58/58\u001b[0m \u001b[32m━━━━━━━━━━━━━━━━━━━━\u001b[0m\u001b[37m\u001b[0m \u001b[1m6s\u001b[0m 102ms/step - accuracy: 0.9817 - loss: 0.0551 - val_accuracy: 0.9902 - val_loss: 0.0318\n",
      "Epoch 7/50\n",
      "\u001b[1m58/58\u001b[0m \u001b[32m━━━━━━━━━━━━━━━━━━━━\u001b[0m\u001b[37m\u001b[0m \u001b[1m10s\u001b[0m 101ms/step - accuracy: 0.9889 - loss: 0.0366 - val_accuracy: 0.9929 - val_loss: 0.0271\n",
      "Epoch 8/50\n",
      "\u001b[1m58/58\u001b[0m \u001b[32m━━━━━━━━━━━━━━━━━━━━\u001b[0m\u001b[37m\u001b[0m \u001b[1m6s\u001b[0m 102ms/step - accuracy: 0.9884 - loss: 0.0292 - val_accuracy: 0.9940 - val_loss: 0.0234\n",
      "Epoch 9/50\n",
      "\u001b[1m58/58\u001b[0m \u001b[32m━━━━━━━━━━━━━━━━━━━━\u001b[0m\u001b[37m\u001b[0m \u001b[1m6s\u001b[0m 101ms/step - accuracy: 0.9899 - loss: 0.0303 - val_accuracy: 0.9913 - val_loss: 0.0284\n",
      "Epoch 10/50\n",
      "\u001b[1m58/58\u001b[0m \u001b[32m━━━━━━━━━━━━━━━━━━━━\u001b[0m\u001b[37m\u001b[0m \u001b[1m6s\u001b[0m 101ms/step - accuracy: 0.9920 - loss: 0.0254 - val_accuracy: 0.9929 - val_loss: 0.0263\n",
      "Epoch 11/50\n",
      "\u001b[1m58/58\u001b[0m \u001b[32m━━━━━━━━━━━━━━━━━━━━\u001b[0m\u001b[37m\u001b[0m \u001b[1m6s\u001b[0m 109ms/step - accuracy: 0.9954 - loss: 0.0175 - val_accuracy: 0.9951 - val_loss: 0.0218\n",
      "Epoch 12/50\n",
      "\u001b[1m58/58\u001b[0m \u001b[32m━━━━━━━━━━━━━━━━━━━━\u001b[0m\u001b[37m\u001b[0m \u001b[1m6s\u001b[0m 102ms/step - accuracy: 0.9948 - loss: 0.0173 - val_accuracy: 0.9956 - val_loss: 0.0200\n",
      "Epoch 13/50\n",
      "\u001b[1m58/58\u001b[0m \u001b[32m━━━━━━━━━━━━━━━━━━━━\u001b[0m\u001b[37m\u001b[0m \u001b[1m10s\u001b[0m 101ms/step - accuracy: 0.9947 - loss: 0.0156 - val_accuracy: 0.9929 - val_loss: 0.0230\n",
      "Epoch 14/50\n",
      "\u001b[1m58/58\u001b[0m \u001b[32m━━━━━━━━━━━━━━━━━━━━\u001b[0m\u001b[37m\u001b[0m \u001b[1m6s\u001b[0m 100ms/step - accuracy: 0.9952 - loss: 0.0154 - val_accuracy: 0.9940 - val_loss: 0.0198\n",
      "Epoch 15/50\n",
      "\u001b[1m58/58\u001b[0m \u001b[32m━━━━━━━━━━━━━━━━━━━━\u001b[0m\u001b[37m\u001b[0m \u001b[1m6s\u001b[0m 99ms/step - accuracy: 0.9958 - loss: 0.0140 - val_accuracy: 0.9945 - val_loss: 0.0178\n",
      "Epoch 16/50\n",
      "\u001b[1m58/58\u001b[0m \u001b[32m━━━━━━━━━━━━━━━━━━━━\u001b[0m\u001b[37m\u001b[0m \u001b[1m6s\u001b[0m 101ms/step - accuracy: 0.9966 - loss: 0.0113 - val_accuracy: 0.9918 - val_loss: 0.0249\n",
      "Epoch 17/50\n",
      "\u001b[1m58/58\u001b[0m \u001b[32m━━━━━━━━━━━━━━━━━━━━\u001b[0m\u001b[37m\u001b[0m \u001b[1m6s\u001b[0m 98ms/step - accuracy: 0.9937 - loss: 0.0181 - val_accuracy: 0.9940 - val_loss: 0.0227\n",
      "Epoch 18/50\n",
      "\u001b[1m58/58\u001b[0m \u001b[32m━━━━━━━━━━━━━━━━━━━━\u001b[0m\u001b[37m\u001b[0m \u001b[1m6s\u001b[0m 102ms/step - accuracy: 0.9965 - loss: 0.0111 - val_accuracy: 0.9956 - val_loss: 0.0178\n",
      "Epoch 19/50\n",
      "\u001b[1m58/58\u001b[0m \u001b[32m━━━━━━━━━━━━━━━━━━━━\u001b[0m\u001b[37m\u001b[0m \u001b[1m6s\u001b[0m 101ms/step - accuracy: 0.9981 - loss: 0.0076 - val_accuracy: 0.9962 - val_loss: 0.0174\n",
      "Epoch 20/50\n",
      "\u001b[1m58/58\u001b[0m \u001b[32m━━━━━━━━━━━━━━━━━━━━\u001b[0m\u001b[37m\u001b[0m \u001b[1m10s\u001b[0m 101ms/step - accuracy: 0.9963 - loss: 0.0121 - val_accuracy: 0.9951 - val_loss: 0.0178\n",
      "Epoch 21/50\n",
      "\u001b[1m58/58\u001b[0m \u001b[32m━━━━━━━━━━━━━━━━━━━━\u001b[0m\u001b[37m\u001b[0m \u001b[1m6s\u001b[0m 103ms/step - accuracy: 0.9990 - loss: 0.0049 - val_accuracy: 0.9940 - val_loss: 0.0210\n",
      "Epoch 22/50\n",
      "\u001b[1m58/58\u001b[0m \u001b[32m━━━━━━━━━━━━━━━━━━━━\u001b[0m\u001b[37m\u001b[0m \u001b[1m6s\u001b[0m 100ms/step - accuracy: 0.9973 - loss: 0.0089 - val_accuracy: 0.9940 - val_loss: 0.0260\n",
      "Epoch 23/50\n",
      "\u001b[1m58/58\u001b[0m \u001b[32m━━━━━━━━━━━━━━━━━━━━\u001b[0m\u001b[37m\u001b[0m \u001b[1m6s\u001b[0m 101ms/step - accuracy: 0.9982 - loss: 0.0071 - val_accuracy: 0.9945 - val_loss: 0.0153\n",
      "Epoch 24/50\n",
      "\u001b[1m58/58\u001b[0m \u001b[32m━━━━━━━━━━━━━━━━━━━━\u001b[0m\u001b[37m\u001b[0m \u001b[1m6s\u001b[0m 100ms/step - accuracy: 0.9974 - loss: 0.0089 - val_accuracy: 0.9973 - val_loss: 0.0106\n",
      "Epoch 25/50\n",
      "\u001b[1m58/58\u001b[0m \u001b[32m━━━━━━━━━━━━━━━━━━━━\u001b[0m\u001b[37m\u001b[0m \u001b[1m6s\u001b[0m 100ms/step - accuracy: 0.9981 - loss: 0.0051 - val_accuracy: 0.9962 - val_loss: 0.0148\n",
      "Epoch 26/50\n",
      "\u001b[1m58/58\u001b[0m \u001b[32m━━━━━━━━━━━━━━━━━━━━\u001b[0m\u001b[37m\u001b[0m \u001b[1m6s\u001b[0m 99ms/step - accuracy: 0.9984 - loss: 0.0060 - val_accuracy: 0.9984 - val_loss: 0.0111\n",
      "Epoch 27/50\n",
      "\u001b[1m58/58\u001b[0m \u001b[32m━━━━━━━━━━━━━━━━━━━━\u001b[0m\u001b[37m\u001b[0m \u001b[1m10s\u001b[0m 101ms/step - accuracy: 0.9986 - loss: 0.0060 - val_accuracy: 0.9973 - val_loss: 0.0128\n",
      "Epoch 28/50\n",
      "\u001b[1m58/58\u001b[0m \u001b[32m━━━━━━━━━━━━━━━━━━━━\u001b[0m\u001b[37m\u001b[0m \u001b[1m6s\u001b[0m 100ms/step - accuracy: 0.9971 - loss: 0.0099 - val_accuracy: 0.9967 - val_loss: 0.0149\n",
      "Epoch 29/50\n",
      "\u001b[1m58/58\u001b[0m \u001b[32m━━━━━━━━━━━━━━━━━━━━\u001b[0m\u001b[37m\u001b[0m \u001b[1m10s\u001b[0m 101ms/step - accuracy: 0.9966 - loss: 0.0127 - val_accuracy: 0.9967 - val_loss: 0.0144\n",
      "Epoch 30/50\n",
      "\u001b[1m58/58\u001b[0m \u001b[32m━━━━━━━━━━━━━━━━━━━━\u001b[0m\u001b[37m\u001b[0m \u001b[1m6s\u001b[0m 100ms/step - accuracy: 0.9981 - loss: 0.0055 - val_accuracy: 0.9962 - val_loss: 0.0189\n",
      "Epoch 31/50\n",
      "\u001b[1m58/58\u001b[0m \u001b[32m━━━━━━━━━━━━━━━━━━━━\u001b[0m\u001b[37m\u001b[0m \u001b[1m6s\u001b[0m 100ms/step - accuracy: 0.9971 - loss: 0.0087 - val_accuracy: 0.9951 - val_loss: 0.0197\n",
      "Epoch 32/50\n",
      "\u001b[1m58/58\u001b[0m \u001b[32m━━━━━━━━━━━━━━━━━━━━\u001b[0m\u001b[37m\u001b[0m \u001b[1m6s\u001b[0m 100ms/step - accuracy: 0.9972 - loss: 0.0072 - val_accuracy: 0.9973 - val_loss: 0.0143\n",
      "Epoch 33/50\n",
      "\u001b[1m58/58\u001b[0m \u001b[32m━━━━━━━━━━━━━━━━━━━━\u001b[0m\u001b[37m\u001b[0m \u001b[1m6s\u001b[0m 101ms/step - accuracy: 0.9989 - loss: 0.0048 - val_accuracy: 0.9973 - val_loss: 0.0181\n",
      "Epoch 34/50\n",
      "\u001b[1m58/58\u001b[0m \u001b[32m━━━━━━━━━━━━━━━━━━━━\u001b[0m\u001b[37m\u001b[0m \u001b[1m6s\u001b[0m 100ms/step - accuracy: 0.9982 - loss: 0.0065 - val_accuracy: 0.9967 - val_loss: 0.0166\n",
      "Epoch 35/50\n",
      "\u001b[1m58/58\u001b[0m \u001b[32m━━━━━━━━━━━━━━━━━━━━\u001b[0m\u001b[37m\u001b[0m \u001b[1m6s\u001b[0m 101ms/step - accuracy: 0.9966 - loss: 0.0069 - val_accuracy: 0.9929 - val_loss: 0.0285\n",
      "Epoch 36/50\n",
      "\u001b[1m58/58\u001b[0m \u001b[32m━━━━━━━━━━━━━━━━━━━━\u001b[0m\u001b[37m\u001b[0m \u001b[1m6s\u001b[0m 99ms/step - accuracy: 0.9968 - loss: 0.0082 - val_accuracy: 0.9951 - val_loss: 0.0189\n",
      "Epoch 37/50\n",
      "\u001b[1m58/58\u001b[0m \u001b[32m━━━━━━━━━━━━━━━━━━━━\u001b[0m\u001b[37m\u001b[0m \u001b[1m10s\u001b[0m 99ms/step - accuracy: 0.9977 - loss: 0.0072 - val_accuracy: 0.9956 - val_loss: 0.0168\n",
      "Epoch 38/50\n",
      "\u001b[1m58/58\u001b[0m \u001b[32m━━━━━━━━━━━━━━━━━━━━\u001b[0m\u001b[37m\u001b[0m \u001b[1m6s\u001b[0m 102ms/step - accuracy: 0.9994 - loss: 0.0038 - val_accuracy: 0.9967 - val_loss: 0.0168\n",
      "Epoch 39/50\n",
      "\u001b[1m58/58\u001b[0m \u001b[32m━━━━━━━━━━━━━━━━━━━━\u001b[0m\u001b[37m\u001b[0m \u001b[1m6s\u001b[0m 100ms/step - accuracy: 0.9973 - loss: 0.0068 - val_accuracy: 0.9962 - val_loss: 0.0201\n",
      "Epoch 40/50\n",
      "\u001b[1m58/58\u001b[0m \u001b[32m━━━━━━━━━━━━━━━━━━━━\u001b[0m\u001b[37m\u001b[0m \u001b[1m10s\u001b[0m 101ms/step - accuracy: 0.9980 - loss: 0.0043 - val_accuracy: 0.9962 - val_loss: 0.0209\n",
      "Epoch 41/50\n",
      "\u001b[1m58/58\u001b[0m \u001b[32m━━━━━━━━━━━━━━━━━━━━\u001b[0m\u001b[37m\u001b[0m \u001b[1m6s\u001b[0m 99ms/step - accuracy: 0.9975 - loss: 0.0060 - val_accuracy: 0.9956 - val_loss: 0.0189\n",
      "Epoch 42/50\n",
      "\u001b[1m58/58\u001b[0m \u001b[32m━━━━━━━━━━━━━━━━━━━━\u001b[0m\u001b[37m\u001b[0m \u001b[1m6s\u001b[0m 101ms/step - accuracy: 0.9975 - loss: 0.0050 - val_accuracy: 0.9967 - val_loss: 0.0227\n",
      "Epoch 43/50\n",
      "\u001b[1m58/58\u001b[0m \u001b[32m━━━━━━━━━━━━━━━━━━━━\u001b[0m\u001b[37m\u001b[0m \u001b[1m10s\u001b[0m 100ms/step - accuracy: 0.9983 - loss: 0.0051 - val_accuracy: 0.9956 - val_loss: 0.0213\n",
      "Epoch 44/50\n",
      "\u001b[1m58/58\u001b[0m \u001b[32m━━━━━━━━━━━━━━━━━━━━\u001b[0m\u001b[37m\u001b[0m \u001b[1m10s\u001b[0m 100ms/step - accuracy: 0.9995 - loss: 0.0028 - val_accuracy: 0.9945 - val_loss: 0.0214\n",
      "Epoch 45/50\n",
      "\u001b[1m58/58\u001b[0m \u001b[32m━━━━━━━━━━━━━━━━━━━━\u001b[0m\u001b[37m\u001b[0m \u001b[1m10s\u001b[0m 100ms/step - accuracy: 0.9995 - loss: 0.0025 - val_accuracy: 0.9973 - val_loss: 0.0162\n",
      "Epoch 46/50\n",
      "\u001b[1m58/58\u001b[0m \u001b[32m━━━━━━━━━━━━━━━━━━━━\u001b[0m\u001b[37m\u001b[0m \u001b[1m6s\u001b[0m 104ms/step - accuracy: 0.9993 - loss: 0.0024 - val_accuracy: 0.9973 - val_loss: 0.0165\n",
      "Epoch 47/50\n",
      "\u001b[1m58/58\u001b[0m \u001b[32m━━━━━━━━━━━━━━━━━━━━\u001b[0m\u001b[37m\u001b[0m \u001b[1m6s\u001b[0m 102ms/step - accuracy: 0.9993 - loss: 0.0017 - val_accuracy: 0.9951 - val_loss: 0.0239\n",
      "Epoch 48/50\n",
      "\u001b[1m58/58\u001b[0m \u001b[32m━━━━━━━━━━━━━━━━━━━━\u001b[0m\u001b[37m\u001b[0m \u001b[1m10s\u001b[0m 99ms/step - accuracy: 0.9985 - loss: 0.0050 - val_accuracy: 0.9934 - val_loss: 0.0275\n",
      "Epoch 49/50\n",
      "\u001b[1m58/58\u001b[0m \u001b[32m━━━━━━━━━━━━━━━━━━━━\u001b[0m\u001b[37m\u001b[0m \u001b[1m6s\u001b[0m 101ms/step - accuracy: 0.9976 - loss: 0.0066 - val_accuracy: 0.9962 - val_loss: 0.0161\n",
      "Epoch 50/50\n",
      "\u001b[1m58/58\u001b[0m \u001b[32m━━━━━━━━━━━━━━━━━━━━\u001b[0m\u001b[37m\u001b[0m \u001b[1m6s\u001b[0m 101ms/step - accuracy: 0.9989 - loss: 0.0046 - val_accuracy: 0.9940 - val_loss: 0.0207\n",
      "Test loss: 0.020737269893288612\n",
      "Test accuracy: 0.9939923286437988\n"
     ]
    }
   ],
   "source": [
    "batch_size = 128\n",
    "num_classes = 9\n",
    "epochs = 50\n",
    "\n",
    "# input image dimensions\n",
    "img_rows, img_cols = 28, 28\n",
    "\n",
    "DATADIR = \"digits_jpeg\"\n",
    "CATEGORIES = [\"1\",\"2\",\"3\",\"4\",\"5\",\"6\",\"7\",\"8\",\"9\"]\n",
    "\n",
    "training_data = []\n",
    "\n",
    "createTrainingData()\n",
    "\n",
    "# Mix data up\n",
    "random.shuffle(training_data)\n",
    "\n",
    "# Split 80-20\n",
    "x_train = []\n",
    "y_train = []\n",
    "x_test = []\n",
    "y_test = []\n",
    "for i in range(len(training_data)*8//10):\n",
    "    x_train.append(training_data[i][0])\n",
    "    y_train.append(training_data[i][1])\n",
    "for i in range(len(training_data)*8//10,len(training_data)):\n",
    "    x_test.append(training_data[i][0])\n",
    "    y_test.append(training_data[i][1])\n",
    "\n",
    "# Reshape\n",
    "x_train = numpy.array(x_train)\n",
    "x_train = x_train.reshape(x_train.shape[0], img_rows, img_cols, 1)\n",
    "x_test = numpy.array(x_test)\n",
    "x_test = x_test.reshape(x_test.shape[0], img_rows, img_cols, 1)\n",
    "input_shape = (img_rows, img_cols, 1)\n",
    "\n",
    "x_train = x_train.astype('float32')\n",
    "x_test = x_test.astype('float32')\n",
    "\n",
    "# Normalize the data\n",
    "x_train /= 255\n",
    "x_test /= 255\n",
    "\n",
    "# convert class vectors to binary class matrices\n",
    "y_train = to_categorical(y_train, num_classes)\n",
    "y_test = to_categorical(y_test, num_classes)\n",
    "\n",
    "model = Sequential()\n",
    "model.add(Conv2D(32, kernel_size=(3, 3),activation='relu',input_shape=input_shape))\n",
    "model.add(Conv2D(64, (3, 3), activation='relu'))\n",
    "model.add(MaxPooling2D(pool_size=(2, 2)))\n",
    "model.add(Dropout(0.25))\n",
    "model.add(Flatten())\n",
    "model.add(Dense(128, activation='relu'))\n",
    "model.add(Dropout(0.5))\n",
    "model.add(Dense(num_classes, activation='softmax'))\n",
    "\n",
    "model.compile(loss=tf.keras.losses.categorical_crossentropy,optimizer=\"Adam\",metrics=['accuracy'])\n",
    "\n",
    "model.fit(x_train, y_train,batch_size=batch_size,epochs=epochs,verbose=1,validation_data=(x_test, y_test))\n",
    "\n",
    "score = model.evaluate(x_test, y_test, verbose=0)\n",
    "\n",
    "print('Test loss:', score[0])\n",
    "print('Test accuracy:', score[1])\n",
    "\n",
    "model.save('digitRecognition22.keras')"
   ]
  },
  {
   "cell_type": "code",
   "execution_count": null,
   "id": "0a148014",
   "metadata": {},
   "outputs": [],
   "source": []
  }
 ],
 "metadata": {
  "kernelspec": {
   "display_name": "Python 3 (ipykernel)",
   "language": "python",
   "name": "python3"
  },
  "language_info": {
   "codemirror_mode": {
    "name": "ipython",
    "version": 3
   },
   "file_extension": ".py",
   "mimetype": "text/x-python",
   "name": "python",
   "nbconvert_exporter": "python",
   "pygments_lexer": "ipython3",
   "version": "3.9.11"
  }
 },
 "nbformat": 4,
 "nbformat_minor": 5
}
